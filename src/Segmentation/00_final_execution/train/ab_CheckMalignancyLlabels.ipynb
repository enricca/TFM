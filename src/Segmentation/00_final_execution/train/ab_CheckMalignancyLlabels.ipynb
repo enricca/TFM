{
 "cells": [
  {
   "cell_type": "code",
   "execution_count": null,
   "metadata": {},
   "outputs": [],
   "source": [
    "import sys\n",
    "sys.path.append('/home/adria/lung_cancer_isbi18/src/dl_networks/')\n",
    "import os\n",
    "import random\n",
    "import logging\n",
    "# import multiprocessing\n",
    "import numpy as np\n",
    "import pandas as pd\n",
    "# from time import time\n",
    "# import matplotlib.pyplot as plt\n",
    "# from utils import plotting\n",
    "import  common\n",
    "# from sklearn import metrics\n",
    "from keras import backend as K\n",
    "from keras.preprocessing.image import ImageDataGenerator\n",
    "from keras.optimizers import Adam\n",
    "from keras.callbacks import ModelCheckpoint, Callback\n",
    "import sample_resnet_malignancy \n",
    "# from dl_utils.tb_callback import TensorBoard"
   ]
  },
  {
   "cell_type": "code",
   "execution_count": null,
   "metadata": {
    "scrolled": false
   },
   "outputs": [],
   "source": [
    "# PATHS\n",
    "# wp = os.environ['LUNG_PATH']\n",
    "wp = '/media/shared/datasets/LUNA/'\n",
    "INPUT_PATH = '/home/adria/data/'  # INPUT_PATH = wp + 'data/preprocessed5_sample'\n",
    "VALIDATION_PATH = '/home/adria/data/'\n",
    "NODULES_PATH = wp + '/annotations_enhanced.csv'\n",
    "PATCHES_PATH = '/home/adria/data/patches/'  # PATCHES_PATH = wp + 'data/preprocessed5_patches'\n",
    "\n",
    "OUTPUT_MODEL = '/home/adria/data/models/'  # OUTPUT_MODEL = wp + 'personal/jm_patches_train_v06_local.hdf5'\n",
    "LOGS_PATH = wp + 'logs/%s' % 'patches_v1'\n",
    "if not os.path.exists(LOGS_PATH):\n",
    "    os.makedirs(LOGS_PATH)\n",
    "\n",
    "\n",
    "\n",
    "## PATCHES GENERATION -----------------------------------------------------------------\n",
    "\n",
    "## PATIENTS FILE LIST\n",
    "patients_with_annotations = pd.read_csv(NODULES_PATH)  # filter patients with no annotations to avoid having to read them\n",
    "patients_with_annotations = list(set(patients_with_annotations['seriesuid']))\n",
    "patients_with_annotations = [\"luna_%s.npz\" % p.split('.')[-1] for p in patients_with_annotations]\n",
    "\n",
    "filenames = os.listdir(INPUT_PATH)\n",
    "filenames = [g for g in filenames if g.startswith('luna_')]\n",
    "filenames_train = [os.path.join(INPUT_PATH, fp) for fp in filenames if fp in patients_with_annotations]\n",
    "filenames_test = [os.path.join(VALIDATION_PATH, fp) for fp in os.listdir(VALIDATION_PATH) if fp in patients_with_annotations]\n",
    "\n",
    "\n",
    "def __load_and_store(filename):\n",
    "    patient_data = np.load(filename)['arr_0']\n",
    "    X, y = common.load_patient_malignancy(patient_data, discard_empty_nodules=True, thickness=1)\n",
    "    logging.info(\"Patient: %s\" % (filename.split('/')[-1]))\n",
    "    return X, y\n",
    "\n",
    "common.crop_generator_malignancy(filenames_train,\n",
    "                                os.path.join(PATCHES_PATH, 'dl1_v1_x_train.npz'),\n",
    "                                os.path.join(PATCHES_PATH, 'dl1_v1_y_train.npz'),\n",
    "                                __load_and_store)\n",
    "\n"
   ]
  },
  {
   "cell_type": "code",
   "execution_count": null,
   "metadata": {},
   "outputs": [],
   "source": [
    "def crop_generator_malignancy(filenames, out_x_filename, out_y_filename, load_patient_func, store=True):\n",
    "\n",
    "    xf,yf = [],[]\n",
    "    for idx, filename in enumerate(filenames):\n",
    "#         logging.info(\"Loading %d/%d %\" (idx,len(filenames)))\n",
    "        x,y = load_patient_func(filename)\n",
    "        xf.extend(x)\n",
    "        yf.extend(y)\n",
    "        \n",
    "#     logging.info('Total time: %.2f, total patients:%d' % (time() - tstart, len(x)))\n",
    "    if store:\n",
    "        np.savez_compressed(out_x_filename, np.asarray(xf))\n",
    "        np.savez_compressed(out_y_filename, np.asarray(yf))\n",
    "        logging.info('Finished saving files')"
   ]
  },
  {
   "cell_type": "code",
   "execution_count": null,
   "metadata": {
    "scrolled": true
   },
   "outputs": [],
   "source": [
    "x,y = load_patient_malignancy(patient_data,discard_empty_nodules=True, thickness = 1)"
   ]
  },
  {
   "cell_type": "code",
   "execution_count": null,
   "metadata": {},
   "outputs": [],
   "source": [
    "xf = []\n",
    "xf.extend(X)\n"
   ]
  },
  {
   "cell_type": "code",
   "execution_count": null,
   "metadata": {
    "scrolled": false
   },
   "outputs": [],
   "source": [
    "xf"
   ]
  },
  {
   "cell_type": "code",
   "execution_count": null,
   "metadata": {},
   "outputs": [],
   "source": [
    "x_train = np.load(os.path.join(PATCHES_PATH, 'dl1_v1_x_train.npz'))['arr_0']"
   ]
  },
  {
   "cell_type": "code",
   "execution_count": null,
   "metadata": {},
   "outputs": [],
   "source": [
    "x_train.shape"
   ]
  },
  {
   "cell_type": "code",
   "execution_count": null,
   "metadata": {},
   "outputs": [],
   "source": [
    "import matplotlib.pyplot as plt\n",
    "plt.imshow(x_train[4][2])\n",
    "plt.show()"
   ]
  },
  {
   "cell_type": "code",
   "execution_count": null,
   "metadata": {},
   "outputs": [],
   "source": []
  }
 ],
 "metadata": {
  "kernelspec": {
   "display_name": "Python 2",
   "language": "python",
   "name": "python2"
  },
  "language_info": {
   "codemirror_mode": {
    "name": "ipython",
    "version": 2
   },
   "file_extension": ".py",
   "mimetype": "text/x-python",
   "name": "python",
   "nbconvert_exporter": "python",
   "pygments_lexer": "ipython2",
   "version": "2.7.12"
  }
 },
 "nbformat": 4,
 "nbformat_minor": 2
}
